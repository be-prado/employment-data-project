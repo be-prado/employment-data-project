{
 "cells": [
  {
   "cell_type": "code",
   "execution_count": 48,
   "id": "8a697af2-0344-409b-b3c6-16813abc3bae",
   "metadata": {},
   "outputs": [],
   "source": [
    "import csv\n",
    "import numpy as np\n",
    "import pandas as pd\n",
    "import matplotlib.pyplot as plt\n",
    "import seaborn as sns"
   ]
  },
  {
   "cell_type": "code",
   "execution_count": 51,
   "id": "3c6b5095-ebe2-4e9e-87f2-6db22feedf39",
   "metadata": {},
   "outputs": [],
   "source": [
    "data=pd.read_csv(\"data.csv\")"
   ]
  },
  {
   "cell_type": "code",
   "execution_count": 52,
   "id": "d8393fb9-1cb1-41fe-92cb-715b5d3929cf",
   "metadata": {},
   "outputs": [
    {
     "data": {
      "text/html": [
       "<div>\n",
       "<style scoped>\n",
       "    .dataframe tbody tr th:only-of-type {\n",
       "        vertical-align: middle;\n",
       "    }\n",
       "\n",
       "    .dataframe tbody tr th {\n",
       "        vertical-align: top;\n",
       "    }\n",
       "\n",
       "    .dataframe thead th {\n",
       "        text-align: right;\n",
       "    }\n",
       "</style>\n",
       "<table border=\"1\" class=\"dataframe\">\n",
       "  <thead>\n",
       "    <tr style=\"text-align: right;\">\n",
       "      <th></th>\n",
       "      <th>CASEID</th>\n",
       "      <th>YYYYMM</th>\n",
       "      <th>YYYYQ</th>\n",
       "      <th>YYYY</th>\n",
       "      <th>ID</th>\n",
       "      <th>SurveyNumber</th>\n",
       "      <th>IDPREV</th>\n",
       "      <th>DATEPR</th>\n",
       "      <th>ICS</th>\n",
       "      <th>ICC</th>\n",
       "      <th>...</th>\n",
       "      <th>GAS1PX1</th>\n",
       "      <th>GAS1PX2</th>\n",
       "      <th>GAS1</th>\n",
       "      <th>PINC</th>\n",
       "      <th>PINC2</th>\n",
       "      <th>PJOB</th>\n",
       "      <th>PSSA</th>\n",
       "      <th>PCRY</th>\n",
       "      <th>PSTK</th>\n",
       "      <th>WT</th>\n",
       "    </tr>\n",
       "  </thead>\n",
       "  <tbody>\n",
       "    <tr>\n",
       "      <th>0</th>\n",
       "      <td>1</td>\n",
       "      <td>197801</td>\n",
       "      <td>19781</td>\n",
       "      <td>1978</td>\n",
       "      <td>1</td>\n",
       "      <td>1</td>\n",
       "      <td>NaN</td>\n",
       "      <td>NaN</td>\n",
       "      <td>76.71</td>\n",
       "      <td>116.23</td>\n",
       "      <td>...</td>\n",
       "      <td>NaN</td>\n",
       "      <td>NaN</td>\n",
       "      <td>NaN</td>\n",
       "      <td>NaN</td>\n",
       "      <td>NaN</td>\n",
       "      <td>NaN</td>\n",
       "      <td>NaN</td>\n",
       "      <td>NaN</td>\n",
       "      <td>NaN</td>\n",
       "      <td>0.00</td>\n",
       "    </tr>\n",
       "    <tr>\n",
       "      <th>1</th>\n",
       "      <td>2</td>\n",
       "      <td>197801</td>\n",
       "      <td>19781</td>\n",
       "      <td>1978</td>\n",
       "      <td>2</td>\n",
       "      <td>1</td>\n",
       "      <td>NaN</td>\n",
       "      <td>NaN</td>\n",
       "      <td>121.12</td>\n",
       "      <td>154.08</td>\n",
       "      <td>...</td>\n",
       "      <td>NaN</td>\n",
       "      <td>NaN</td>\n",
       "      <td>NaN</td>\n",
       "      <td>NaN</td>\n",
       "      <td>NaN</td>\n",
       "      <td>NaN</td>\n",
       "      <td>NaN</td>\n",
       "      <td>NaN</td>\n",
       "      <td>NaN</td>\n",
       "      <td>0.72</td>\n",
       "    </tr>\n",
       "    <tr>\n",
       "      <th>2</th>\n",
       "      <td>3</td>\n",
       "      <td>197801</td>\n",
       "      <td>19781</td>\n",
       "      <td>1978</td>\n",
       "      <td>3</td>\n",
       "      <td>1</td>\n",
       "      <td>NaN</td>\n",
       "      <td>NaN</td>\n",
       "      <td>2.70</td>\n",
       "      <td>2.70</td>\n",
       "      <td>...</td>\n",
       "      <td>NaN</td>\n",
       "      <td>NaN</td>\n",
       "      <td>NaN</td>\n",
       "      <td>NaN</td>\n",
       "      <td>NaN</td>\n",
       "      <td>NaN</td>\n",
       "      <td>NaN</td>\n",
       "      <td>NaN</td>\n",
       "      <td>NaN</td>\n",
       "      <td>1.03</td>\n",
       "    </tr>\n",
       "    <tr>\n",
       "      <th>3</th>\n",
       "      <td>4</td>\n",
       "      <td>197801</td>\n",
       "      <td>19781</td>\n",
       "      <td>1978</td>\n",
       "      <td>4</td>\n",
       "      <td>1</td>\n",
       "      <td>NaN</td>\n",
       "      <td>NaN</td>\n",
       "      <td>76.71</td>\n",
       "      <td>154.08</td>\n",
       "      <td>...</td>\n",
       "      <td>NaN</td>\n",
       "      <td>NaN</td>\n",
       "      <td>NaN</td>\n",
       "      <td>NaN</td>\n",
       "      <td>NaN</td>\n",
       "      <td>NaN</td>\n",
       "      <td>NaN</td>\n",
       "      <td>NaN</td>\n",
       "      <td>NaN</td>\n",
       "      <td>0.00</td>\n",
       "    </tr>\n",
       "    <tr>\n",
       "      <th>4</th>\n",
       "      <td>5</td>\n",
       "      <td>197801</td>\n",
       "      <td>19781</td>\n",
       "      <td>1978</td>\n",
       "      <td>5</td>\n",
       "      <td>1</td>\n",
       "      <td>NaN</td>\n",
       "      <td>NaN</td>\n",
       "      <td>121.12</td>\n",
       "      <td>116.23</td>\n",
       "      <td>...</td>\n",
       "      <td>NaN</td>\n",
       "      <td>NaN</td>\n",
       "      <td>NaN</td>\n",
       "      <td>NaN</td>\n",
       "      <td>NaN</td>\n",
       "      <td>NaN</td>\n",
       "      <td>NaN</td>\n",
       "      <td>NaN</td>\n",
       "      <td>NaN</td>\n",
       "      <td>0.93</td>\n",
       "    </tr>\n",
       "  </tbody>\n",
       "</table>\n",
       "<p>5 rows × 112 columns</p>\n",
       "</div>"
      ],
      "text/plain": [
       "   CASEID  YYYYMM  YYYYQ  YYYY  ID  SurveyNumber  IDPREV  DATEPR     ICS  \\\n",
       "0       1  197801  19781  1978   1             1     NaN     NaN   76.71   \n",
       "1       2  197801  19781  1978   2             1     NaN     NaN  121.12   \n",
       "2       3  197801  19781  1978   3             1     NaN     NaN    2.70   \n",
       "3       4  197801  19781  1978   4             1     NaN     NaN   76.71   \n",
       "4       5  197801  19781  1978   5             1     NaN     NaN  121.12   \n",
       "\n",
       "      ICC  ...  GAS1PX1  GAS1PX2  GAS1  PINC  PINC2  PJOB  PSSA  PCRY  PSTK  \\\n",
       "0  116.23  ...      NaN      NaN   NaN   NaN    NaN   NaN   NaN   NaN   NaN   \n",
       "1  154.08  ...      NaN      NaN   NaN   NaN    NaN   NaN   NaN   NaN   NaN   \n",
       "2    2.70  ...      NaN      NaN   NaN   NaN    NaN   NaN   NaN   NaN   NaN   \n",
       "3  154.08  ...      NaN      NaN   NaN   NaN    NaN   NaN   NaN   NaN   NaN   \n",
       "4  116.23  ...      NaN      NaN   NaN   NaN    NaN   NaN   NaN   NaN   NaN   \n",
       "\n",
       "     WT  \n",
       "0  0.00  \n",
       "1  0.72  \n",
       "2  1.03  \n",
       "3  0.00  \n",
       "4  0.93  \n",
       "\n",
       "[5 rows x 112 columns]"
      ]
     },
     "execution_count": 52,
     "metadata": {},
     "output_type": "execute_result"
    }
   ],
   "source": [
    "data.head()"
   ]
  },
  {
   "cell_type": "code",
   "execution_count": 62,
   "id": "89ae9340-1754-4d81-838c-56937afd3010",
   "metadata": {},
   "outputs": [],
   "source": [
    "gas_data=data[['GASPX1','GASPX2','GAS1','VEHNUM','YYYY']]"
   ]
  },
  {
   "cell_type": "code",
   "execution_count": 80,
   "id": "f971d0e9-8104-4c46-a179-26c5eb320b74",
   "metadata": {},
   "outputs": [],
   "source": [
    "clean=gas_data.dropna(axis=0)"
   ]
  },
  {
   "cell_type": "code",
   "execution_count": 81,
   "id": "7a643a60-2cff-443f-88ba-8df8d19a4441",
   "metadata": {},
   "outputs": [],
   "source": [
    "GASPX1=clean['GASPX1']"
   ]
  },
  {
   "cell_type": "code",
   "execution_count": 82,
   "id": "dd01d9ca-c2c4-4836-abe4-f2370d837a7d",
   "metadata": {},
   "outputs": [
    {
     "data": {
      "text/plain": [
       "(array([7332.,    0.,    0.,    0.,    0.,    0.,    0.,    0.,    0.,\n",
       "        1077.]),\n",
       " array([1. , 1.4, 1.8, 2.2, 2.6, 3. , 3.4, 3.8, 4.2, 4.6, 5. ]),\n",
       " <BarContainer object of 10 artists>)"
      ]
     },
     "execution_count": 82,
     "metadata": {},
     "output_type": "execute_result"
    },
    {
     "data": {
      "image/png": "[encoded data removed]",
      "text/plain": [
       "<Figure size 432x288 with 1 Axes>"
      ]
     },
     "metadata": {
      "needs_background": "light"
     },
     "output_type": "display_data"
    }
   ],
   "source": [
    "plt.hist(GASPX1)"
   ]
  },
  {
   "cell_type": "markdown",
   "id": "be112078-b67d-4f0b-a798-8d5bfa881ce0",
   "metadata": {},
   "source": [
    "People are expecting the price for the oli is getting higher in the future."
   ]
  },
  {
   "cell_type": "code",
   "execution_count": 102,
   "id": "92c606c0-22ed-4943-9624-3257bc323362",
   "metadata": {},
   "outputs": [
    {
     "data": {
      "text/plain": [
       "YYYY\n",
       "1983    1.944079\n",
       "1984    1.988235\n",
       "1985    2.024845\n",
       "1986    1.985887\n",
       "1990    2.084168\n",
       "1991    2.048851\n",
       "2008    2.225842\n",
       "Name: VEHNUM, dtype: float64"
      ]
     },
     "execution_count": 102,
     "metadata": {},
     "output_type": "execute_result"
    }
   ],
   "source": [
    "number_car=clean.groupby('YYYY')['VEHNUM'].mean()\n",
    "number_car"
   ]
  },
  {
   "cell_type": "code",
   "execution_count": 103,
   "id": "dfb2023b-af83-4632-a6d7-9f287e99a2b8",
   "metadata": {},
   "outputs": [],
   "source": [
    "YYYY=[1983,1984,1985,1986,1990,1991,2008]"
   ]
  },
  {
   "cell_type": "code",
   "execution_count": 105,
   "id": "bf9ca7df-7313-496e-a6b9-aa519efbae35",
   "metadata": {},
   "outputs": [
    {
     "data": {
      "text/plain": [
       "<matplotlib.collections.PathCollection at 0x1810a90a910>"
      ]
     },
     "execution_count": 105,
     "metadata": {},
     "output_type": "execute_result"
    },
    {
     "data": {
      "image/png": "[encoded data removed]",
      "text/plain": [
       "<Figure size 432x288 with 1 Axes>"
      ]
     },
     "metadata": {
      "needs_background": "light"
     },
     "output_type": "display_data"
    }
   ],
   "source": [
    "plt.scatter(YYYY,number_car)"
   ]
  },
  {
   "cell_type": "markdown",
   "id": "777027c9-f34c-4c40-99cc-e939e05af683",
   "metadata": {},
   "source": [
    "We can see generally the number of cars are increasing. People know the price of oil will go up but they still choose to buy more cars"
   ]
  },
  {
   "cell_type": "code",
   "execution_count": 108,
   "id": "e236a125-4990-484e-82c5-453386b784fe",
   "metadata": {},
   "outputs": [
    {
     "data": {
      "text/plain": [
       "YYYY\n",
       "1983     88.465461\n",
       "1984     81.260963\n",
       "1985     55.145342\n",
       "1986     92.425403\n",
       "1990     88.903808\n",
       "1991     91.826628\n",
       "2008    155.893429\n",
       "Name: GASPX2, dtype: float64"
      ]
     },
     "execution_count": 108,
     "metadata": {},
     "output_type": "execute_result"
    }
   ],
   "source": [
    "percentage=clean.groupby('YYYY')['GASPX2'].mean()\n",
    "percentage"
   ]
  },
  {
   "cell_type": "code",
   "execution_count": 109,
   "id": "9854a486-d484-4f45-a812-4c9a3251fbed",
   "metadata": {},
   "outputs": [
    {
     "data": {
      "text/plain": [
       "<matplotlib.collections.PathCollection at 0x1810a9a8a90>"
      ]
     },
     "execution_count": 109,
     "metadata": {},
     "output_type": "execute_result"
    },
    {
     "data": {
      "image/png": "[encoded data removed]",
      "text/plain": [
       "<Figure size 432x288 with 1 Axes>"
      ]
     },
     "metadata": {
      "needs_background": "light"
     },
     "output_type": "display_data"
    }
   ],
   "source": [
    "plt.scatter(YYYY,percentage)"
   ]
  },
  {
   "cell_type": "markdown",
   "id": "19313054-f593-4780-93c3-1d973d795e3b",
   "metadata": {},
   "source": [
    "We can see in general the graph is inverse with the number of cars people owned. I think this might be the reason that people know that the price of oil will go up but they think the price will not go too high. they still buy more cars instead."
   ]
  },
  {
   "cell_type": "code",
   "execution_count": null,
   "id": "1a1a9d93-a086-4b67-9ddc-8e52136dd334",
   "metadata": {},
   "outputs": [],
   "source": []
  }
 ],
 "metadata": {
  "kernelspec": {
   "display_name": "Python 3 (ipykernel)",
   "language": "python",
   "name": "python3"
  },
  "language_info": {
   "codemirror_mode": {
    "name": "ipython",
    "version": 3
   },
   "file_extension": ".py",
   "mimetype": "text/x-python",
   "name": "python",
   "nbconvert_exporter": "python",
   "pygments_lexer": "ipython3",
   "version": "3.9.7"
  }
 },
 "nbformat": 4,
 "nbformat_minor": 5
}
