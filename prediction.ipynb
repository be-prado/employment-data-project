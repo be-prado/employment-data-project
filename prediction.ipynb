{
 "cells": [
  {
   "cell_type": "code",
   "execution_count": 6,
   "metadata": {},
   "outputs": [],
   "source": [
    "import pickle\n",
    "filehandler2=open(r\"e:\\\\UMICH\\\\Courses\\\\stats 507\\\\employment-data-project\\\\model_xgboost.pkl\",'rb')\n",
    "model_xgboost2=pickle.load(filehandler2)\n",
    "# prediction\n",
    "import pandas as pd\n",
    "import numpy as np\n",
    "from sklearn.ensemble import GradientBoostingRegressor\n",
    "from sklearn.model_selection import GridSearchCV\n",
    "from sklearn.preprocessing import StandardScaler\n",
    "from sklearn.preprocessing import LabelEncoder\n",
    "df=pd.read_csv(r'e:\\\\UMICH\\\\Courses\\\\stats 507\\\\employment-data-project\\\\dataset_for_ml_models.zip')\n"
   ]
  },
  {
   "cell_type": "code",
   "execution_count": 2,
   "metadata": {},
   "outputs": [
    {
     "name": "stdout",
     "output_type": "stream",
     "text": [
      "[[78469.1266269]]\n"
     ]
    }
   ],
   "source": [
    "\n",
    "# calculate mean and std\n",
    "scaler = StandardScaler()\n",
    "scaler.fit(df[['AGE', 'INFL_HOMEAMT', 'INFL_INVAMT']])\n",
    "# year\n",
    "years = df['YYYY']\n",
    "le = LabelEncoder()  # add a default value for unseen categories\n",
    "le.fit(years)\n",
    "# Income\n",
    "scaler_y = StandardScaler()\n",
    "y_scaled=scaler_y.fit_transform(np.array(df['INCOME']).reshape(-1, 1))\n",
    "\n"
   ]
  },
  {
   "cell_type": "code",
   "execution_count": null,
   "metadata": {},
   "outputs": [],
   "source": [
    "# new data\n",
    "new_df = pd.DataFrame(df.drop(['INCOME','YYYYMM', 'INFL_HOMEAMT'], axis=1).mean()).T\n",
    "new_df['INFL_HOMEAMT']=input()\n",
    "\n",
    "new_data_scaled = scaler.transform(new_df[['AGE', 'INFL_HOMEAMT', 'INFL_INVAMT']])\n",
    "new_df[['AGE', 'INFL_HOMEAMT', 'INFL_INVAMT']] = new_data_scaled\n",
    "new_year = new_df['YYYY']\n",
    "def transform_new_year(new_year):\n",
    "        try:\n",
    "            encoded_year = le.transform(new_year)[0]\n",
    "        except ValueError:\n",
    "            encoded_year = years.mean()-min(years)\n",
    "            print(f\"Note: {new_year} is not in the training data, result maybe inaccurate.\")\n",
    "        return encoded_year\n",
    "new_df['YYYY'] = transform_new_year(new_year)\n",
    "\n",
    "X=new_df.reindex(columns=model_xgboost2.feature_names_in_)\n",
    "\n",
    "# \n",
    "income_pred = model_xgboost2.predict(X)\n",
    "\n",
    "# inverse transform\n",
    "income_pred_unscaled = scaler_y.inverse_transform(income_pred.reshape(-1, 1)).item()\n",
    "\n",
    "print(income_pred_unscaled)"
   ]
  }
 ],
 "metadata": {
  "kernelspec": {
   "display_name": "Python 3",
   "language": "python",
   "name": "python3"
  },
  "language_info": {
   "codemirror_mode": {
    "name": "ipython",
    "version": 3
   },
   "file_extension": ".py",
   "mimetype": "text/x-python",
   "name": "python",
   "nbconvert_exporter": "python",
   "pygments_lexer": "ipython3",
   "version": "3.9.5"
  },
  "orig_nbformat": 4
 },
 "nbformat": 4,
 "nbformat_minor": 2
}
