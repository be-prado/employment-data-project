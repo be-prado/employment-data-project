{
 "cells": [
  {
   "cell_type": "code",
   "execution_count": 38,
   "id": "cdb7439b",
   "metadata": {},
   "outputs": [],
   "source": [
    "import csv\n",
    "import pandas as pd\n",
    "import numpy as np\n",
    "import matplotlib.pyplot as plt\n",
    "import seaborn as sns\n",
    "plt.style.use('fivethirtyeight')\n",
    "import warnings\n",
    "warnings.filterwarnings('ignore')\n",
    "%matplotlib inline"
   ]
  },
  {
   "cell_type": "code",
   "execution_count": 39,
   "id": "9741c0a5",
   "metadata": {},
   "outputs": [],
   "source": [
    "df = pd.read_csv(\"./unprocessed_dataset.zip\")"
   ]
  },
  {
   "cell_type": "code",
   "execution_count": 40,
   "id": "ece22f14",
   "metadata": {},
   "outputs": [
    {
     "data": {
      "text/plain": [
       "Index(['CASEID', 'YYYYMM', 'YYYYQ', 'YYYY', 'ID', 'IDPREV', 'DATEPR', 'ICS',\n",
       "       'ICC', 'ICE',\n",
       "       ...\n",
       "       'GAS1PX1', 'GAS1PX2', 'GAS1', 'PINC', 'PINC2', 'PJOB', 'PSSA', 'PCRY',\n",
       "       'PSTK', 'WT'],\n",
       "      dtype='object', length=111)"
      ]
     },
     "execution_count": 40,
     "metadata": {},
     "output_type": "execute_result"
    }
   ],
   "source": [
    "df.columns"
   ]
  },
  {
   "cell_type": "code",
   "execution_count": 41,
   "id": "c65d4b36",
   "metadata": {},
   "outputs": [],
   "source": [
    "target = df[['ICS','ICE','VEHNUM']]"
   ]
  },
  {
   "cell_type": "code",
   "execution_count": 42,
   "id": "538e3786",
   "metadata": {},
   "outputs": [
    {
     "data": {
      "text/html": [
       "<div>\n",
       "<style scoped>\n",
       "    .dataframe tbody tr th:only-of-type {\n",
       "        vertical-align: middle;\n",
       "    }\n",
       "\n",
       "    .dataframe tbody tr th {\n",
       "        vertical-align: top;\n",
       "    }\n",
       "\n",
       "    .dataframe thead th {\n",
       "        text-align: right;\n",
       "    }\n",
       "</style>\n",
       "<table border=\"1\" class=\"dataframe\">\n",
       "  <thead>\n",
       "    <tr style=\"text-align: right;\">\n",
       "      <th></th>\n",
       "      <th>ICS</th>\n",
       "      <th>ICE</th>\n",
       "      <th>VEHNUM</th>\n",
       "    </tr>\n",
       "  </thead>\n",
       "  <tbody>\n",
       "    <tr>\n",
       "      <th>0</th>\n",
       "      <td>76.71</td>\n",
       "      <td>51.32</td>\n",
       "      <td></td>\n",
       "    </tr>\n",
       "    <tr>\n",
       "      <th>1</th>\n",
       "      <td>121.12</td>\n",
       "      <td>99.94</td>\n",
       "      <td></td>\n",
       "    </tr>\n",
       "    <tr>\n",
       "      <th>2</th>\n",
       "      <td>2.70</td>\n",
       "      <td>2.70</td>\n",
       "      <td></td>\n",
       "    </tr>\n",
       "    <tr>\n",
       "      <th>3</th>\n",
       "      <td>76.71</td>\n",
       "      <td>27.01</td>\n",
       "      <td></td>\n",
       "    </tr>\n",
       "    <tr>\n",
       "      <th>4</th>\n",
       "      <td>121.12</td>\n",
       "      <td>124.25</td>\n",
       "      <td></td>\n",
       "    </tr>\n",
       "  </tbody>\n",
       "</table>\n",
       "</div>"
      ],
      "text/plain": [
       "      ICS     ICE VEHNUM\n",
       "0   76.71   51.32       \n",
       "1  121.12   99.94       \n",
       "2    2.70    2.70       \n",
       "3   76.71   27.01       \n",
       "4  121.12  124.25       "
      ]
     },
     "execution_count": 42,
     "metadata": {},
     "output_type": "execute_result"
    }
   ],
   "source": [
    "target.head()"
   ]
  },
  {
   "cell_type": "code",
   "execution_count": 43,
   "id": "6ad9abd2",
   "metadata": {},
   "outputs": [
    {
     "data": {
      "text/html": [
       "<div>\n",
       "<style scoped>\n",
       "    .dataframe tbody tr th:only-of-type {\n",
       "        vertical-align: middle;\n",
       "    }\n",
       "\n",
       "    .dataframe tbody tr th {\n",
       "        vertical-align: top;\n",
       "    }\n",
       "\n",
       "    .dataframe thead th {\n",
       "        text-align: right;\n",
       "    }\n",
       "</style>\n",
       "<table border=\"1\" class=\"dataframe\">\n",
       "  <thead>\n",
       "    <tr style=\"text-align: right;\">\n",
       "      <th></th>\n",
       "      <th>ICS</th>\n",
       "      <th>ICE</th>\n",
       "      <th>VEHNUM</th>\n",
       "    </tr>\n",
       "  </thead>\n",
       "  <tbody>\n",
       "    <tr>\n",
       "      <th>309716</th>\n",
       "      <td>150.02</td>\n",
       "      <td>147.86</td>\n",
       "      <td></td>\n",
       "    </tr>\n",
       "    <tr>\n",
       "      <th>309717</th>\n",
       "      <td>105.61</td>\n",
       "      <td>74.93</td>\n",
       "      <td></td>\n",
       "    </tr>\n",
       "    <tr>\n",
       "      <th>309718</th>\n",
       "      <td>46.41</td>\n",
       "      <td>26.31</td>\n",
       "      <td></td>\n",
       "    </tr>\n",
       "    <tr>\n",
       "      <th>309719</th>\n",
       "      <td>16.80</td>\n",
       "      <td>26.31</td>\n",
       "      <td></td>\n",
       "    </tr>\n",
       "    <tr>\n",
       "      <th>309720</th>\n",
       "      <td>31.60</td>\n",
       "      <td>50.62</td>\n",
       "      <td></td>\n",
       "    </tr>\n",
       "  </tbody>\n",
       "</table>\n",
       "</div>"
      ],
      "text/plain": [
       "           ICS     ICE VEHNUM\n",
       "309716  150.02  147.86       \n",
       "309717  105.61   74.93       \n",
       "309718   46.41   26.31       \n",
       "309719   16.80   26.31       \n",
       "309720   31.60   50.62       "
      ]
     },
     "execution_count": 43,
     "metadata": {},
     "output_type": "execute_result"
    }
   ],
   "source": [
    "target.tail()"
   ]
  },
  {
   "cell_type": "code",
   "execution_count": 44,
   "id": "c06fd9ed",
   "metadata": {},
   "outputs": [
    {
     "data": {
      "text/plain": [
       "2"
      ]
     },
     "execution_count": 44,
     "metadata": {},
     "output_type": "execute_result"
    }
   ],
   "source": [
    "len(target['VEHNUM'].iloc[0])"
   ]
  },
  {
   "cell_type": "code",
   "execution_count": 45,
   "id": "0d1489d5",
   "metadata": {},
   "outputs": [],
   "source": [
    "target = target.replace('  ', np.nan)\n",
    "target = target.replace('      ', np.nan)"
   ]
  },
  {
   "cell_type": "code",
   "execution_count": 46,
   "id": "ff4655da",
   "metadata": {},
   "outputs": [
    {
     "data": {
      "text/html": [
       "<div>\n",
       "<style scoped>\n",
       "    .dataframe tbody tr th:only-of-type {\n",
       "        vertical-align: middle;\n",
       "    }\n",
       "\n",
       "    .dataframe tbody tr th {\n",
       "        vertical-align: top;\n",
       "    }\n",
       "\n",
       "    .dataframe thead th {\n",
       "        text-align: right;\n",
       "    }\n",
       "</style>\n",
       "<table border=\"1\" class=\"dataframe\">\n",
       "  <thead>\n",
       "    <tr style=\"text-align: right;\">\n",
       "      <th></th>\n",
       "      <th>ICS</th>\n",
       "      <th>ICE</th>\n",
       "      <th>VEHNUM</th>\n",
       "    </tr>\n",
       "  </thead>\n",
       "  <tbody>\n",
       "    <tr>\n",
       "      <th>0</th>\n",
       "      <td>76.71</td>\n",
       "      <td>51.32</td>\n",
       "      <td>NaN</td>\n",
       "    </tr>\n",
       "    <tr>\n",
       "      <th>1</th>\n",
       "      <td>121.12</td>\n",
       "      <td>99.94</td>\n",
       "      <td>NaN</td>\n",
       "    </tr>\n",
       "    <tr>\n",
       "      <th>2</th>\n",
       "      <td>2.70</td>\n",
       "      <td>2.70</td>\n",
       "      <td>NaN</td>\n",
       "    </tr>\n",
       "    <tr>\n",
       "      <th>3</th>\n",
       "      <td>76.71</td>\n",
       "      <td>27.01</td>\n",
       "      <td>NaN</td>\n",
       "    </tr>\n",
       "    <tr>\n",
       "      <th>4</th>\n",
       "      <td>121.12</td>\n",
       "      <td>124.25</td>\n",
       "      <td>NaN</td>\n",
       "    </tr>\n",
       "    <tr>\n",
       "      <th>...</th>\n",
       "      <td>...</td>\n",
       "      <td>...</td>\n",
       "      <td>...</td>\n",
       "    </tr>\n",
       "    <tr>\n",
       "      <th>309716</th>\n",
       "      <td>150.02</td>\n",
       "      <td>147.86</td>\n",
       "      <td>NaN</td>\n",
       "    </tr>\n",
       "    <tr>\n",
       "      <th>309717</th>\n",
       "      <td>105.61</td>\n",
       "      <td>74.93</td>\n",
       "      <td>NaN</td>\n",
       "    </tr>\n",
       "    <tr>\n",
       "      <th>309718</th>\n",
       "      <td>46.41</td>\n",
       "      <td>26.31</td>\n",
       "      <td>NaN</td>\n",
       "    </tr>\n",
       "    <tr>\n",
       "      <th>309719</th>\n",
       "      <td>16.80</td>\n",
       "      <td>26.31</td>\n",
       "      <td>NaN</td>\n",
       "    </tr>\n",
       "    <tr>\n",
       "      <th>309720</th>\n",
       "      <td>31.60</td>\n",
       "      <td>50.62</td>\n",
       "      <td>NaN</td>\n",
       "    </tr>\n",
       "  </tbody>\n",
       "</table>\n",
       "<p>309721 rows × 3 columns</p>\n",
       "</div>"
      ],
      "text/plain": [
       "           ICS     ICE VEHNUM\n",
       "0        76.71   51.32    NaN\n",
       "1       121.12   99.94    NaN\n",
       "2         2.70    2.70    NaN\n",
       "3        76.71   27.01    NaN\n",
       "4       121.12  124.25    NaN\n",
       "...        ...     ...    ...\n",
       "309716  150.02  147.86    NaN\n",
       "309717  105.61   74.93    NaN\n",
       "309718   46.41   26.31    NaN\n",
       "309719   16.80   26.31    NaN\n",
       "309720   31.60   50.62    NaN\n",
       "\n",
       "[309721 rows x 3 columns]"
      ]
     },
     "execution_count": 46,
     "metadata": {},
     "output_type": "execute_result"
    }
   ],
   "source": [
    "target"
   ]
  },
  {
   "cell_type": "code",
   "execution_count": 47,
   "id": "4124af77",
   "metadata": {},
   "outputs": [],
   "source": [
    "target = target.dropna()"
   ]
  },
  {
   "cell_type": "code",
   "execution_count": 59,
   "id": "411ca749",
   "metadata": {},
   "outputs": [
    {
     "data": {
      "text/html": [
       "<div>\n",
       "<style scoped>\n",
       "    .dataframe tbody tr th:only-of-type {\n",
       "        vertical-align: middle;\n",
       "    }\n",
       "\n",
       "    .dataframe tbody tr th {\n",
       "        vertical-align: top;\n",
       "    }\n",
       "\n",
       "    .dataframe thead th {\n",
       "        text-align: right;\n",
       "    }\n",
       "</style>\n",
       "<table border=\"1\" class=\"dataframe\">\n",
       "  <thead>\n",
       "    <tr style=\"text-align: right;\">\n",
       "      <th></th>\n",
       "      <th>ICS</th>\n",
       "      <th>ICE</th>\n",
       "      <th>VEHNUM</th>\n",
       "    </tr>\n",
       "  </thead>\n",
       "  <tbody>\n",
       "    <tr>\n",
       "      <th>693</th>\n",
       "      <td>91.51</td>\n",
       "      <td>51.32</td>\n",
       "      <td>3</td>\n",
       "    </tr>\n",
       "    <tr>\n",
       "      <th>694</th>\n",
       "      <td>61.91</td>\n",
       "      <td>27.01</td>\n",
       "      <td>4</td>\n",
       "    </tr>\n",
       "    <tr>\n",
       "      <th>695</th>\n",
       "      <td>121.12</td>\n",
       "      <td>99.94</td>\n",
       "      <td>4</td>\n",
       "    </tr>\n",
       "    <tr>\n",
       "      <th>696</th>\n",
       "      <td>76.71</td>\n",
       "      <td>27.01</td>\n",
       "      <td>4</td>\n",
       "    </tr>\n",
       "    <tr>\n",
       "      <th>697</th>\n",
       "      <td>106.31</td>\n",
       "      <td>75.63</td>\n",
       "      <td>4</td>\n",
       "    </tr>\n",
       "    <tr>\n",
       "      <th>...</th>\n",
       "      <td>...</td>\n",
       "      <td>...</td>\n",
       "      <td>...</td>\n",
       "    </tr>\n",
       "    <tr>\n",
       "      <th>215209</th>\n",
       "      <td>2.00</td>\n",
       "      <td>2.00</td>\n",
       "      <td>2</td>\n",
       "    </tr>\n",
       "    <tr>\n",
       "      <th>215210</th>\n",
       "      <td>76.01</td>\n",
       "      <td>26.31</td>\n",
       "      <td>2</td>\n",
       "    </tr>\n",
       "    <tr>\n",
       "      <th>215211</th>\n",
       "      <td>31.60</td>\n",
       "      <td>26.31</td>\n",
       "      <td>2</td>\n",
       "    </tr>\n",
       "    <tr>\n",
       "      <th>215212</th>\n",
       "      <td>61.21</td>\n",
       "      <td>99.24</td>\n",
       "      <td>1</td>\n",
       "    </tr>\n",
       "    <tr>\n",
       "      <th>215213</th>\n",
       "      <td>76.01</td>\n",
       "      <td>123.55</td>\n",
       "      <td>2</td>\n",
       "    </tr>\n",
       "  </tbody>\n",
       "</table>\n",
       "<p>145075 rows × 3 columns</p>\n",
       "</div>"
      ],
      "text/plain": [
       "           ICS     ICE VEHNUM\n",
       "693      91.51   51.32      3\n",
       "694      61.91   27.01      4\n",
       "695     121.12   99.94      4\n",
       "696      76.71   27.01      4\n",
       "697     106.31   75.63      4\n",
       "...        ...     ...    ...\n",
       "215209    2.00    2.00      2\n",
       "215210   76.01   26.31      2\n",
       "215211   31.60   26.31      2\n",
       "215212   61.21   99.24      1\n",
       "215213   76.01  123.55      2\n",
       "\n",
       "[145075 rows x 3 columns]"
      ]
     },
     "execution_count": 59,
     "metadata": {},
     "output_type": "execute_result"
    }
   ],
   "source": [
    "target"
   ]
  },
  {
   "cell_type": "code",
   "execution_count": 65,
   "id": "6c157136",
   "metadata": {},
   "outputs": [
    {
     "data": {
      "text/html": [
       "<div>\n",
       "<style scoped>\n",
       "    .dataframe tbody tr th:only-of-type {\n",
       "        vertical-align: middle;\n",
       "    }\n",
       "\n",
       "    .dataframe tbody tr th {\n",
       "        vertical-align: top;\n",
       "    }\n",
       "\n",
       "    .dataframe thead th {\n",
       "        text-align: right;\n",
       "    }\n",
       "</style>\n",
       "<table border=\"1\" class=\"dataframe\">\n",
       "  <thead>\n",
       "    <tr style=\"text-align: right;\">\n",
       "      <th></th>\n",
       "      <th>ICS</th>\n",
       "      <th>ICE</th>\n",
       "      <th>VEHNUM</th>\n",
       "    </tr>\n",
       "  </thead>\n",
       "  <tbody>\n",
       "    <tr>\n",
       "      <th>ICS</th>\n",
       "      <td>1.000000</td>\n",
       "      <td>0.883215</td>\n",
       "      <td>0.032113</td>\n",
       "    </tr>\n",
       "    <tr>\n",
       "      <th>ICE</th>\n",
       "      <td>0.883215</td>\n",
       "      <td>1.000000</td>\n",
       "      <td>0.025114</td>\n",
       "    </tr>\n",
       "    <tr>\n",
       "      <th>VEHNUM</th>\n",
       "      <td>0.032113</td>\n",
       "      <td>0.025114</td>\n",
       "      <td>1.000000</td>\n",
       "    </tr>\n",
       "  </tbody>\n",
       "</table>\n",
       "</div>"
      ],
      "text/plain": [
       "             ICS       ICE    VEHNUM\n",
       "ICS     1.000000  0.883215  0.032113\n",
       "ICE     0.883215  1.000000  0.025114\n",
       "VEHNUM  0.032113  0.025114  1.000000"
      ]
     },
     "execution_count": 65,
     "metadata": {},
     "output_type": "execute_result"
    }
   ],
   "source": [
    "target['VEHNUM'] = target['VEHNUM'].astype(int)\n",
    "target.corr()"
   ]
  },
  {
   "cell_type": "markdown",
   "id": "45aec98d",
   "metadata": {},
   "source": [
    "customer sentiment and customer expectation\\\n",
    "Assumptions: these two should be postively correlated.\\\n",
    "assumption is confirmed by the graph"
   ]
  },
  {
   "cell_type": "code",
   "execution_count": 57,
   "id": "5d960bf5",
   "metadata": {},
   "outputs": [
    {
     "data": {
      "image/png": "[encoded data removed]",
      "text/plain": [
       "<Figure size 640x480 with 1 Axes>"
      ]
     },
     "metadata": {},
     "output_type": "display_data"
    }
   ],
   "source": [
    "plt.scatter('ICS','ICE', data=target) \n",
    "plt.xlabel('ICS')\n",
    "plt.ylabel('ICE')\n",
    "plt.show()"
   ]
  },
  {
   "cell_type": "markdown",
   "id": "d822d9f0",
   "metadata": {},
   "source": [
    "customer sentiment and customer expectation\\\n",
    "Assumptions: these two should be postively correlated. \\\n",
    "graph shows no correlation"
   ]
  },
  {
   "cell_type": "code",
   "execution_count": 58,
   "id": "64ce2bdb",
   "metadata": {},
   "outputs": [
    {
     "data": {
      "image/png": "[encoded data removed]",
      "text/plain": [
       "<Figure size 640x480 with 1 Axes>"
      ]
     },
     "metadata": {},
     "output_type": "display_data"
    }
   ],
   "source": [
    "plt.scatter('ICS','VEHNUM', data=target) \n",
    "plt.xlabel('ICS')\n",
    "plt.ylabel('VEHNUM')\n",
    "plt.show()"
   ]
  },
  {
   "cell_type": "markdown",
   "id": "b0dd56fe",
   "metadata": {},
   "source": [
    "number of car owned and customer expectation\\\n",
    "Assumptions: these two should be postively correlated. \\\n",
    "graph shows no correlation"
   ]
  },
  {
   "cell_type": "code",
   "execution_count": 68,
   "id": "7ffefc9d",
   "metadata": {},
   "outputs": [
    {
     "data": {
      "image/png": "[encoded data removed]",
      "text/plain": [
       "<Figure size 640x480 with 1 Axes>"
      ]
     },
     "metadata": {},
     "output_type": "display_data"
    }
   ],
   "source": [
    "plt.scatter('ICE','VEHNUM', data=target) \n",
    "plt.xlabel('ICE')\n",
    "plt.ylabel('VEHNUM')\n",
    "ax = plt.gca()\n",
    "ax.set_ylim([0, 20])\n",
    "plt.show()"
   ]
  },
  {
   "cell_type": "code",
   "execution_count": null,
   "id": "28b5bb19",
   "metadata": {},
   "outputs": [],
   "source": []
  }
 ],
 "metadata": {
  "kernelspec": {
   "display_name": "Python 3 (ipykernel)",
   "language": "python",
   "name": "python3"
  },
  "language_info": {
   "codemirror_mode": {
    "name": "ipython",
    "version": 3
   },
   "file_extension": ".py",
   "mimetype": "text/x-python",
   "name": "python",
   "nbconvert_exporter": "python",
   "pygments_lexer": "ipython3",
   "version": "3.9.13"
  }
 },
 "nbformat": 4,
 "nbformat_minor": 5
}
