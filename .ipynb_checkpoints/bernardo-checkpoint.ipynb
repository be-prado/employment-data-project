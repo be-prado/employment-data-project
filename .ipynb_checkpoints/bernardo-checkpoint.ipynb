{
 "cells": [
  {
   "cell_type": "code",
   "execution_count": 5,
   "id": "69dd0392",
   "metadata": {},
   "outputs": [],
   "source": [
    "import csv\n",
    "import numpy as np\n",
    "import pandas as pd\n",
    "import matplotlib.pyplot as plt\n",
    "import seaborn as sns"
   ]
  },
  {
   "cell_type": "code",
   "execution_count": 2,
   "id": "d134c9f7",
   "metadata": {},
   "outputs": [],
   "source": [
    "with open('unprocessed_dataset.csv', newline='') as csvfile:\n",
    "    reader = csv.DictReader(csvfile)"
   ]
  },
  {
   "cell_type": "code",
   "execution_count": 3,
   "id": "06a61cdb",
   "metadata": {},
   "outputs": [
    {
     "name": "stderr",
     "output_type": "stream",
     "text": [
      "C:\\Users\\berpr\\anaconda3\\lib\\site-packages\\IPython\\core\\interactiveshell.py:3444: DtypeWarning: Columns (13,15,16,18,32,34,36,37,41,45,46,55,71,83,84,86,87,90,91,92,96,98,100,101,103,104,105,106,107,108,109) have mixed types.Specify dtype option on import or set low_memory=False.\n",
      "  exec(code_obj, self.user_global_ns, self.user_ns)\n"
     ]
    }
   ],
   "source": [
    "df = pd.read_csv('unprocessed_dataset.csv')\n",
    "column_names = df.columns\n",
    "empty_entry = '    '"
   ]
  },
  {
   "cell_type": "code",
   "execution_count": 4,
   "id": "b02e40bc",
   "metadata": {},
   "outputs": [
    {
     "data": {
      "text/html": [
       "<div>\n",
       "<style scoped>\n",
       "    .dataframe tbody tr th:only-of-type {\n",
       "        vertical-align: middle;\n",
       "    }\n",
       "\n",
       "    .dataframe tbody tr th {\n",
       "        vertical-align: top;\n",
       "    }\n",
       "\n",
       "    .dataframe thead th {\n",
       "        text-align: right;\n",
       "    }\n",
       "</style>\n",
       "<table border=\"1\" class=\"dataframe\">\n",
       "  <thead>\n",
       "    <tr style=\"text-align: right;\">\n",
       "      <th></th>\n",
       "      <th>CASEID</th>\n",
       "      <th>YYYYMM</th>\n",
       "      <th>YYYYQ</th>\n",
       "      <th>YYYY</th>\n",
       "      <th>ID</th>\n",
       "      <th>IDPREV</th>\n",
       "      <th>DATEPR</th>\n",
       "      <th>ICS</th>\n",
       "      <th>ICC</th>\n",
       "      <th>ICE</th>\n",
       "      <th>...</th>\n",
       "      <th>GAS1PX1</th>\n",
       "      <th>GAS1PX2</th>\n",
       "      <th>GAS1</th>\n",
       "      <th>PINC</th>\n",
       "      <th>PINC2</th>\n",
       "      <th>PJOB</th>\n",
       "      <th>PSSA</th>\n",
       "      <th>PCRY</th>\n",
       "      <th>PSTK</th>\n",
       "      <th>WT</th>\n",
       "    </tr>\n",
       "  </thead>\n",
       "  <tbody>\n",
       "    <tr>\n",
       "      <th>0</th>\n",
       "      <td>1</td>\n",
       "      <td>197801</td>\n",
       "      <td>19781</td>\n",
       "      <td>1978</td>\n",
       "      <td>1</td>\n",
       "      <td></td>\n",
       "      <td></td>\n",
       "      <td>76.71</td>\n",
       "      <td>116.23</td>\n",
       "      <td>51.32</td>\n",
       "      <td>...</td>\n",
       "      <td></td>\n",
       "      <td></td>\n",
       "      <td></td>\n",
       "      <td></td>\n",
       "      <td></td>\n",
       "      <td></td>\n",
       "      <td></td>\n",
       "      <td></td>\n",
       "      <td></td>\n",
       "      <td>0.00</td>\n",
       "    </tr>\n",
       "    <tr>\n",
       "      <th>1</th>\n",
       "      <td>2</td>\n",
       "      <td>197801</td>\n",
       "      <td>19781</td>\n",
       "      <td>1978</td>\n",
       "      <td>2</td>\n",
       "      <td></td>\n",
       "      <td></td>\n",
       "      <td>121.12</td>\n",
       "      <td>154.08</td>\n",
       "      <td>99.94</td>\n",
       "      <td>...</td>\n",
       "      <td></td>\n",
       "      <td></td>\n",
       "      <td></td>\n",
       "      <td></td>\n",
       "      <td></td>\n",
       "      <td></td>\n",
       "      <td></td>\n",
       "      <td></td>\n",
       "      <td></td>\n",
       "      <td>0.72</td>\n",
       "    </tr>\n",
       "    <tr>\n",
       "      <th>2</th>\n",
       "      <td>3</td>\n",
       "      <td>197801</td>\n",
       "      <td>19781</td>\n",
       "      <td>1978</td>\n",
       "      <td>3</td>\n",
       "      <td></td>\n",
       "      <td></td>\n",
       "      <td>2.70</td>\n",
       "      <td>2.70</td>\n",
       "      <td>2.70</td>\n",
       "      <td>...</td>\n",
       "      <td></td>\n",
       "      <td></td>\n",
       "      <td></td>\n",
       "      <td></td>\n",
       "      <td></td>\n",
       "      <td></td>\n",
       "      <td></td>\n",
       "      <td></td>\n",
       "      <td></td>\n",
       "      <td>1.03</td>\n",
       "    </tr>\n",
       "    <tr>\n",
       "      <th>3</th>\n",
       "      <td>4</td>\n",
       "      <td>197801</td>\n",
       "      <td>19781</td>\n",
       "      <td>1978</td>\n",
       "      <td>4</td>\n",
       "      <td></td>\n",
       "      <td></td>\n",
       "      <td>76.71</td>\n",
       "      <td>154.08</td>\n",
       "      <td>27.01</td>\n",
       "      <td>...</td>\n",
       "      <td></td>\n",
       "      <td></td>\n",
       "      <td></td>\n",
       "      <td></td>\n",
       "      <td></td>\n",
       "      <td></td>\n",
       "      <td></td>\n",
       "      <td></td>\n",
       "      <td></td>\n",
       "      <td>0.00</td>\n",
       "    </tr>\n",
       "    <tr>\n",
       "      <th>4</th>\n",
       "      <td>5</td>\n",
       "      <td>197801</td>\n",
       "      <td>19781</td>\n",
       "      <td>1978</td>\n",
       "      <td>5</td>\n",
       "      <td></td>\n",
       "      <td></td>\n",
       "      <td>121.12</td>\n",
       "      <td>116.23</td>\n",
       "      <td>124.25</td>\n",
       "      <td>...</td>\n",
       "      <td></td>\n",
       "      <td></td>\n",
       "      <td></td>\n",
       "      <td></td>\n",
       "      <td></td>\n",
       "      <td></td>\n",
       "      <td></td>\n",
       "      <td></td>\n",
       "      <td></td>\n",
       "      <td>0.93</td>\n",
       "    </tr>\n",
       "  </tbody>\n",
       "</table>\n",
       "<p>5 rows × 111 columns</p>\n",
       "</div>"
      ],
      "text/plain": [
       "   CASEID  YYYYMM  YYYYQ  YYYY  ID IDPREV  DATEPR     ICS     ICC     ICE  \\\n",
       "0       1  197801  19781  1978   1                  76.71  116.23   51.32   \n",
       "1       2  197801  19781  1978   2                 121.12  154.08   99.94   \n",
       "2       3  197801  19781  1978   3                   2.70    2.70    2.70   \n",
       "3       4  197801  19781  1978   4                  76.71  154.08   27.01   \n",
       "4       5  197801  19781  1978   5                 121.12  116.23  124.25   \n",
       "\n",
       "   ...  GAS1PX1  GAS1PX2  GAS1   PINC  PINC2   PJOB   PSSA PCRY   PSTK    WT  \n",
       "0  ...                                                                  0.00  \n",
       "1  ...                                                                  0.72  \n",
       "2  ...                                                                  1.03  \n",
       "3  ...                                                                  0.00  \n",
       "4  ...                                                                  0.93  \n",
       "\n",
       "[5 rows x 111 columns]"
      ]
     },
     "execution_count": 4,
     "metadata": {},
     "output_type": "execute_result"
    }
   ],
   "source": [
    "df.head()"
   ]
  },
  {
   "cell_type": "code",
   "execution_count": 19,
   "id": "d98610b7",
   "metadata": {},
   "outputs": [],
   "source": [
    "def select_df_with_labels(df, labels):\n",
    "    # remove missing entries\n",
    "    sub_df = df[labels].replace(\" \", \"\")\n",
    "    for label in labels:\n",
    "        sub_df = sub_df[sub_df[label] != '']\n",
    "    return sub_df.astype(int)"
   ]
  },
  {
   "cell_type": "code",
   "execution_count": 13,
   "id": "7dc754ce",
   "metadata": {},
   "outputs": [
    {
     "data": {
      "text/plain": [
       "[Text(0.5, 1.0, 'Correlation Matrix')]"
      ]
     },
     "execution_count": 13,
     "metadata": {},
     "output_type": "execute_result"
    },
    {
     "data": {
      "image/png": "[encoded data removed]",
      "text/plain": [
       "<Figure size 432x288 with 2 Axes>"
      ]
     },
     "metadata": {
      "needs_background": "light"
     },
     "output_type": "display_data"
    }
   ],
   "source": [
    "income_labels = [\"PAGO\", \"PEXP\", \"BAGO\", \"INEXQ1\"]\n",
    "income = df[income_labels].replace(\" \", \"\")\n",
    "for label in income_labels:\n",
    "    income = income[income[label] != '']\n",
    "income = income.astype(int)\n",
    "corrM = income.corr()\n",
    "hmap = sns.heatmap(corrM, vmin=-1, vmax=1, center=0,\n",
    "                  cmap=sns.diverging_palette(200, 20, n=100))\n",
    "hmap.set(title=\"Correlation Matrix\")"
   ]
  },
  {
   "cell_type": "code",
   "execution_count": 78,
   "id": "c9680bb7",
   "metadata": {},
   "outputs": [
    {
     "data": {
      "image/png": "[encoded data removed]",
      "text/plain": [
       "<Figure size 432x288 with 1 Axes>"
      ]
     },
     "metadata": {
      "needs_background": "light"
     },
     "output_type": "display_data"
    }
   ],
   "source": [
    "# car buying attitudes by region\n",
    "buying_labels = [\"HOM\", \"CAR\", \"REGION\"]\n",
    "buying_df = select_df_with_labels(df, home_buying_labels).groupby(\"REGION\").mean().reset_index()\n",
    "buying_df = pd.melt(buying_df, id_vars=[\"REGION\"], value_vars=[\"HOM\", \"CAR\"])\n",
    "buying_df = buying_df.rename(columns={\"REGION\": \"Region\", \"value\": \"Buying Attitude\", \"variable\": \"Item\"})\n",
    "#print(buying_df.columns)\n",
    "buying_plot = sns.barplot(x=buying_df.columns[0], y=buying_df.columns[2], hue=buying_df.columns[1], data=buying_df)"
   ]
  },
  {
   "cell_type": "code",
   "execution_count": 93,
   "id": "dc1df182",
   "metadata": {},
   "outputs": [
    {
     "data": {
      "text/plain": [
       "[Text(0.5, 1.0, 'Correlation Matrix')]"
      ]
     },
     "execution_count": 93,
     "metadata": {},
     "output_type": "execute_result"
    },
    {
     "data": {
      "image/png": "[encoded data removed]",
      "text/plain": [
       "<Figure size 432x288 with 2 Axes>"
      ]
     },
     "metadata": {
      "needs_background": "light"
     },
     "output_type": "display_data"
    }
   ],
   "source": [
    "# [income quintile, home quintile, stock investment quintile, political affiliation,  economy in 5 years, gov economic policy]\n",
    "economy_dem = [\"YTL5\", \"HTL5\", \"STL5\", \"POLAFF\", \"BUS5\", \"GOVT\"]\n",
    "economy_df = select_df_with_labels(df, economy_dem)\n",
    "economy_df = economy_df[(economy_df[\"POLAFF\"] < 8) & (economy_df[\"BUS5\"] < 98) & (economy_df[\"GOVT\"] < 8)]\n",
    "economy_df.head()\n",
    "economy_corr = economy_df.corr()\n",
    "hmap = sns.heatmap(economy_corr, vmin=-1, vmax=1, center=0,\n",
    "                  cmap=sns.diverging_palette(200, 20, n=100))\n",
    "hmap.set(title=\"Correlation Matrix\")"
   ]
  },
  {
   "cell_type": "code",
   "execution_count": null,
   "id": "3b0b5dee",
   "metadata": {},
   "outputs": [],
   "source": []
  }
 ],
 "metadata": {
  "kernelspec": {
   "display_name": "Python 3 (ipykernel)",
   "language": "python",
   "name": "python3"
  },
  "language_info": {
   "codemirror_mode": {
    "name": "ipython",
    "version": 3
   },
   "file_extension": ".py",
   "mimetype": "text/x-python",
   "name": "python",
   "nbconvert_exporter": "python",
   "pygments_lexer": "ipython3",
   "version": "3.9.7"
  }
 },
 "nbformat": 4,
 "nbformat_minor": 5
}
