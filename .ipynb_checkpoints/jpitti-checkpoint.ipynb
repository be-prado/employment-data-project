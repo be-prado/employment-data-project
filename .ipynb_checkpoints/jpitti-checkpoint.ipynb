{
 "cells": [
  {
   "cell_type": "code",
   "execution_count": 8,
   "id": "2c4a5fe8-725b-495a-8f88-74b1d822f2ed",
   "metadata": {},
   "outputs": [],
   "source": [
    "import csv\n",
    "import pandas as pd\n",
    "import numpy as np\n",
    "import plotly.express as px"
   ]
  },
  {
   "cell_type": "code",
   "execution_count": 10,
   "id": "e39cc52f-90f4-41ae-9e28-3f5454c9057e",
   "metadata": {},
   "outputs": [
    {
     "name": "stderr",
     "output_type": "stream",
     "text": [
      "C:\\Users\\jrpit\\AppData\\Local\\Temp\\ipykernel_16340\\1389413064.py:1: DtypeWarning: Columns (13,15,16,18,32,34,36,37,41,45,46,55,71,83,84,86,87,90,91,92,96,98,100,101,103,104,105,106,107,108,109) have mixed types. Specify dtype option on import or set low_memory=False.\n",
      "  df = pd.read_csv(\"./unprocessed_dataset.zip\")\n"
     ]
    }
   ],
   "source": [
    "df = pd.read_csv(\"./unprocessed_dataset.zip\")"
   ]
  },
  {
   "cell_type": "code",
   "execution_count": 35,
   "id": "4bf13772-0084-4d29-9788-7ac2478a1e93",
   "metadata": {},
   "outputs": [
    {
     "data": {
      "text/plain": [
       "Index(['CASEID', 'YYYYMM', 'YYYYQ', 'YYYY', 'ID', 'IDPREV', 'DATEPR', 'ICS',\n",
       "       'ICC', 'ICE',\n",
       "       ...\n",
       "       'GAS1PX1', 'GAS1PX2', 'GAS1', 'PINC', 'PINC2', 'PJOB', 'PSSA', 'PCRY',\n",
       "       'PSTK', 'WT'],\n",
       "      dtype='object', length=111)"
      ]
     },
     "execution_count": 35,
     "metadata": {},
     "output_type": "execute_result"
    }
   ],
   "source": [
    "df.columns"
   ]
  },
  {
   "cell_type": "code",
   "execution_count": 57,
   "id": "e7e024c1-5549-4b44-a682-eacca9c9992e",
   "metadata": {},
   "outputs": [],
   "source": [
    "# gp = pd.to_numeric(df[\"GASPX1\"])\n",
    "# gp\n",
    "\n",
    "test = df[['POLAFF', 'GASPX1']]\n",
    "\n",
    "fter = test[(test['POLAFF'] != \" \") & (test['GASPX1'] != \" \")]\n",
    "\n",
    "fter = fter.apply(pd.to_numeric, axis=1)\n"
   ]
  },
  {
   "cell_type": "code",
   "execution_count": 58,
   "id": "f5f7b1e7-be0b-4d41-8644-6bbfe8ffb622",
   "metadata": {},
   "outputs": [],
   "source": [
    "def p_recode(pol):\n",
    "    r_dic = {\n",
    "    1: \"Go up\",\n",
    "    2: \"Stay the same\",\n",
    "    3: \"Go down\",\n",
    "    8: \"Don't know\",\n",
    "    9: \"No answer\"\n",
    "    }\n",
    "    return r_dic.get(pol)\n",
    "\n",
    "\n",
    "fter['recode_pol'] = fter['POLAFF'].apply(p_recode)"
   ]
  },
  {
   "cell_type": "code",
   "execution_count": 60,
   "id": "22a55e5c-2b4c-4733-8cb0-616ca2649b8d",
   "metadata": {},
   "outputs": [
    {
     "data": {
      "text/plain": [
       "array(['Stay the same', 'Go down', 'Go up', 'No answer', \"Don't know\"],\n",
       "      dtype=object)"
      ]
     },
     "execution_count": 60,
     "metadata": {},
     "output_type": "execute_result"
    }
   ],
   "source": [
    "fter['recode_pol'].unique()"
   ]
  },
  {
   "cell_type": "code",
   "execution_count": null,
   "id": "ef3aaab4-4a91-466d-bafd-445c40de0d97",
   "metadata": {},
   "outputs": [],
   "source": []
  }
 ],
 "metadata": {
  "kernelspec": {
   "display_name": "Python 3 (ipykernel)",
   "language": "python",
   "name": "python3"
  },
  "language_info": {
   "codemirror_mode": {
    "name": "ipython",
    "version": 3
   },
   "file_extension": ".py",
   "mimetype": "text/x-python",
   "name": "python",
   "nbconvert_exporter": "python",
   "pygments_lexer": "ipython3",
   "version": "3.9.13"
  }
 },
 "nbformat": 4,
 "nbformat_minor": 5
}
