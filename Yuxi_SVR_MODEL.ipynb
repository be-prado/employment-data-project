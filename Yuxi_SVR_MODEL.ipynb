{
 "cells": [
  {
   "cell_type": "code",
   "execution_count": 1,
   "id": "402ab6b3",
   "metadata": {},
   "outputs": [],
   "source": [
    "import csv\n",
    "import pandas as pd\n",
    "import numpy as np\n",
    "import matplotlib.pyplot as plt\n",
    "import seaborn as sns\n",
    "plt.style.use('fivethirtyeight')\n",
    "import warnings\n",
    "warnings.filterwarnings('ignore')\n",
    "%matplotlib inline"
   ]
  },
  {
   "cell_type": "code",
   "execution_count": 2,
   "id": "f6b6644e",
   "metadata": {},
   "outputs": [],
   "source": [
    "df = pd.read_csv(\"./dataset_for_ml_models.zip\")"
   ]
  },
  {
   "cell_type": "code",
   "execution_count": 3,
   "id": "cb7b4872",
   "metadata": {},
   "outputs": [
    {
     "name": "stdout",
     "output_type": "stream",
     "text": [
      "0.1 YYYY\n",
      "0.19 YYYYMM\n",
      "0.01 HOMEOWN\n",
      "0.19 AGE\n",
      "0.14 INFL_HOMEAMT\n",
      "0.13 INFL_INVAMT\n",
      "0.02 REGION_Northeast\n",
      "0.03 REGION_South\n",
      "0.02 REGION_West\n",
      "0.03 SEX_Male\n",
      "0.01 MARRY_Married/partner\n",
      "0.01 MARRY_Never Married\n",
      "0.01 MARRY_Widowed\n",
      "0.0 EGRADE_10\n",
      "0.0 EGRADE_11\n",
      "0.01 EGRADE_12\n",
      "0.01 EGRADE_13\n",
      "0.0 EGRADE_14\n",
      "0.01 EGRADE_15\n",
      "0.01 EGRADE_16\n",
      "0.01 EGRADE_17\n",
      "0.0 EGRADE_2\n",
      "0.0 EGRADE_3\n",
      "0.0 EGRADE_4\n",
      "0.0 EGRADE_5\n",
      "0.0 EGRADE_6\n",
      "0.0 EGRADE_7\n",
      "0.0 EGRADE_8\n",
      "0.0 EGRADE_9\n",
      "0.0 EGRADE_DK\n",
      "0.0 EHSGRD_NA\n",
      "0.0 EHSGRD_No\n",
      "0.0 EHSGRD_Yes\n",
      "0.0 ECLGRD_NA\n",
      "0.0 ECLGRD_No\n",
      "0.0 ECLGRD_Yes\n",
      "0.02 POLAFF_Democrat\n",
      "0.02 POLAFF_Independent, No Preference\n",
      "0.0 POLAFF_NA\n",
      "0.02 POLAFF_Republican\n"
     ]
    }
   ],
   "source": [
    "#find the important variables using random forest\n",
    "from sklearn.ensemble import RandomForestClassifier\n",
    "rnd_clf = RandomForestClassifier(n_estimators=2, random_state=42)\n",
    "X = df.drop(['INCOME'],axis=1)\n",
    "y = df['INCOME']\n",
    "rnd_clf.fit(X, y)\n",
    "for score, name in zip(rnd_clf.feature_importances_, X.columns):\n",
    "    print(round(score, 2), name)"
   ]
  },
  {
   "cell_type": "code",
   "execution_count": 4,
   "id": "a171ea34",
   "metadata": {},
   "outputs": [
    {
     "data": {
      "text/plain": [
       "Pipeline(steps=[('standardscaler', StandardScaler()),\n",
       "                ('svr', SVR(C=0.01, kernel='linear'))])"
      ]
     },
     "execution_count": 4,
     "metadata": {},
     "output_type": "execute_result"
    }
   ],
   "source": [
    "X = df[['YYYYMM','AGE','INFL_HOMEAMT','INFL_INVAMT']]\n",
    "\n",
    "from sklearn.model_selection import train_test_split\n",
    "\n",
    "train_set, test_set = train_test_split(df, test_size=0.2, random_state=42)\n",
    "\n",
    "X = train_set[['YYYYMM','AGE','INFL_HOMEAMT','INFL_INVAMT']]\n",
    "y = train_set['INCOME']\n",
    "\n",
    "#use svr model\n",
    "from sklearn.pipeline import make_pipeline\n",
    "from sklearn.svm import SVR\n",
    "from sklearn.preprocessing import StandardScaler\n",
    "svm_poly_reg = make_pipeline(StandardScaler(), SVR(kernel=\"linear\", C=0.01, epsilon=0.1))\n",
    "svm_poly_reg.fit(X, y)"
   ]
  },
  {
   "cell_type": "code",
   "execution_count": 8,
   "id": "048b84d0",
   "metadata": {},
   "outputs": [
    {
     "data": {
      "text/plain": [
       "96300.00886036326"
      ]
     },
     "execution_count": 8,
     "metadata": {},
     "output_type": "execute_result"
    }
   ],
   "source": [
    "from sklearn.metrics import mean_squared_error\n",
    "\n",
    "X = test_set[['YYYYMM','AGE','INFL_HOMEAMT','INFL_INVAMT']]\n",
    "y = svm_poly_reg.predict(X)\n",
    "\n",
    "lin_rmse = mean_squared_error(test_set['INCOME'], y, squared=False)\n",
    "lin_rmse"
   ]
  },
  {
   "cell_type": "code",
   "execution_count": null,
   "id": "0fca5c0e",
   "metadata": {},
   "outputs": [],
   "source": []
  }
 ],
 "metadata": {
  "kernelspec": {
   "display_name": "Python 3 (ipykernel)",
   "language": "python",
   "name": "python3"
  },
  "language_info": {
   "codemirror_mode": {
    "name": "ipython",
    "version": 3
   },
   "file_extension": ".py",
   "mimetype": "text/x-python",
   "name": "python",
   "nbconvert_exporter": "python",
   "pygments_lexer": "ipython3",
   "version": "3.9.13"
  }
 },
 "nbformat": 4,
 "nbformat_minor": 5
}
