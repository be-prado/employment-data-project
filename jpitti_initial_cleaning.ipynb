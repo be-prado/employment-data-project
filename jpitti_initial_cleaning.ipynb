{
 "cells": [
  {
   "cell_type": "code",
   "execution_count": 1,
   "metadata": {},
   "outputs": [],
   "source": [
    "import pandas as pd\n",
    "import numpy as np"
   ]
  },
  {
   "cell_type": "code",
   "execution_count": 2,
   "metadata": {},
   "outputs": [
    {
     "name": "stderr",
     "output_type": "stream",
     "text": [
      "C:\\Users\\jrpit\\AppData\\Local\\Temp\\ipykernel_13368\\1389413064.py:1: DtypeWarning: Columns (13,15,16,18,32,34,36,37,41,45,46,55,71,83,84,86,87,90,91,92,96,98,100,101,103,104,105,106,107,108,109) have mixed types. Specify dtype option on import or set low_memory=False.\n",
      "  df = pd.read_csv(\"./unprocessed_dataset.zip\")\n"
     ]
    }
   ],
   "source": [
    "df = pd.read_csv(\"./unprocessed_dataset.zip\")"
   ]
  },
  {
   "cell_type": "code",
   "execution_count": 3,
   "metadata": {},
   "outputs": [],
   "source": [
    "ml_vars = df[['YYYY', 'YYYYMM', 'INCOME', 'HOMEAMT', 'HOMEOWN', 'INVAMT', 'AGE', 'REGION', 'SEX', 'MARRY', 'EGRADE', 'EHSGRD', 'ECLGRD', 'POLAFF']]\n",
    "\n",
    "test = ml_vars.replace(r'^\\s*$', np.nan, regex=True)\n",
    "\n",
    "test = test.dropna()\n",
    "\n",
    "test = test.apply(pd.to_numeric, axis=1)"
   ]
  },
  {
   "cell_type": "code",
   "execution_count": 102,
   "metadata": {},
   "outputs": [],
   "source": [
    "# test.to_csv(\"dataset_to_clean.zip\", index= False, compression = \"zip\")"
   ]
  }
 ],
 "metadata": {
  "kernelspec": {
   "display_name": "base",
   "language": "python",
   "name": "python3"
  },
  "language_info": {
   "codemirror_mode": {
    "name": "ipython",
    "version": 3
   },
   "file_extension": ".py",
   "mimetype": "text/x-python",
   "name": "python",
   "nbconvert_exporter": "python",
   "pygments_lexer": "ipython3",
   "version": "3.9.13"
  },
  "orig_nbformat": 4
 },
 "nbformat": 4,
 "nbformat_minor": 2
}
